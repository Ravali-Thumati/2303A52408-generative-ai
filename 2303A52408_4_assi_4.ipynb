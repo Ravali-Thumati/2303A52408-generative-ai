{
  "nbformat": 4,
  "nbformat_minor": 0,
  "metadata": {
    "colab": {
      "provenance": [],
      "authorship_tag": "ABX9TyPOXqNGTxtI+Gfr5IwHfq+w",
      "include_colab_link": true
    },
    "kernelspec": {
      "name": "python3",
      "display_name": "Python 3"
    },
    "language_info": {
      "name": "python"
    }
  },
  "cells": [
    {
      "cell_type": "markdown",
      "metadata": {
        "id": "view-in-github",
        "colab_type": "text"
      },
      "source": [
        "<a href=\"https://colab.research.google.com/github/Ravali-Thumati/2303A52408-generative-ai/blob/main/2303A52408_4_assi_4.ipynb\" target=\"_parent\"><img src=\"https://colab.research.google.com/assets/colab-badge.svg\" alt=\"Open In Colab\"/></a>"
      ]
    },
    {
      "cell_type": "code",
      "source": [
        "X_train = [\n",
        "    [0.1, 0.2, 0.3],\n",
        "    [0.2, 0.3, 0.4],\n",
        "    [0.3, 0.4, 0.5],\n",
        "    [0.5, 0.6, 0.7],\n",
        "    [0.1, 0.3, 0.5],\n",
        "    [0.2, 0.4, 0.6],\n",
        "    [0.3, 0.5, 0.7],\n",
        "    [0.4, 0.6, 0.8],\n",
        "    [0.5, 0.7, 0.1]\n",
        "]\n",
        "y_train = [0.14, 0.20, 0.26, 0.38, 0.22, 0.28, 0.34, 0.40, 0.22]\n",
        "\n",
        "X_test = [\n",
        "    [0.6, 0.7, 0.8],\n",
        "    [0.7, 0.8, 0.9]\n",
        "]\n",
        "y_test = [0.44, 0.50]\n",
        "\n",
        "w = [0.1, 0.2, 0.3]\n",
        "b = 0.1\n",
        "\n",
        "learning_rate = 0.01\n",
        "num_epochs = 1000\n",
        "\n",
        "def dot_product(vec1, vec2):\n",
        "    return sum(v1 * v2 for v1, v2 in zip(vec1, vec2))\n",
        "\n",
        "for epoch in range(num_epochs):\n",
        "    y_pred = [dot_product(X_train[i], w) + b for i in range(len(X_train))]\n",
        "    error = [y_pred[i] - y_train[i] for i in range(len(y_train))]\n",
        "\n",
        "    dw = [\n",
        "        (2 / len(X_train)) * sum(error[i] * X_train[i][j] for i in range(len(X_train)))\n",
        "        for j in range(len(w))\n",
        "    ]\n",
        "    db = (2 / len(X_train)) * sum(error)\n",
        "\n",
        "    w = [w[j] - learning_rate * dw[j] for j in range(len(w))]\n",
        "    b -= learning_rate * db\n",
        "\n",
        "    mse = sum(e ** 2 for e in error) / len(error)\n",
        "\n",
        "    if epoch % 100 == 0:\n",
        "        print(f\"Epoch {epoch}, MSE: {mse:.6f}\")\n",
        "\n",
        "def mse_calc(X, y):\n",
        "    y_pred = [dot_product(X[i], w) + b for i in range(len(X))]\n",
        "    return sum((y_pred[i] - y[i]) ** 2 for i in range(len(y))) / len(y)\n",
        "\n",
        "mse_train = mse_calc(X_train, y_train)\n",
        "mse_test = mse_calc(X_test, y_test)\n",
        "\n",
        "print(f\"Erro quadrático médio no treinamento: {mse_train:.6f}\")\n",
        "print(f\"Erro quadrático médio no teste: {mse_test:.6f}\")\n",
        "\n",
        "x_input = [\n",
        "    float(input(\"Digite x1: \")),\n",
        "    float(input(\"Digite x2: \")),\n",
        "    float(input(\"Digite x3: \"))\n",
        "]\n",
        "y_output = dot_product(x_input, w) + b\n",
        "print(f\"Previsão do modelo: {y_output:.6f}\")"
      ],
      "metadata": {
        "colab": {
          "base_uri": "https://localhost:8080/"
        },
        "id": "IQOkkNfPI9vM",
        "outputId": "a0dd93bc-8c05-471c-9c87-3bea87022b22"
      },
      "execution_count": 5,
      "outputs": [
        {
          "output_type": "stream",
          "name": "stdout",
          "text": [
            "Epoch 0, MSE: 0.010000\n",
            "Epoch 100, MSE: 0.000120\n",
            "Epoch 200, MSE: 0.000090\n",
            "Epoch 300, MSE: 0.000079\n",
            "Epoch 400, MSE: 0.000069\n",
            "Epoch 500, MSE: 0.000061\n",
            "Epoch 600, MSE: 0.000054\n",
            "Epoch 700, MSE: 0.000047\n",
            "Epoch 800, MSE: 0.000041\n",
            "Epoch 900, MSE: 0.000036\n",
            "Erro quadrático médio no treinamento: 0.000032\n",
            "Erro quadrático médio no teste: 0.000183\n",
            "Digite x1: 0.6\n",
            "Digite x2: 0.7\n",
            "Digite x3: 0.8\n",
            "Previsão do modelo: 0.428777\n"
          ]
        }
      ]
    },
    {
      "cell_type": "code",
      "source": [
        "X_train = [\n",
        "    [0.1, 0.2, 0.3],\n",
        "    [0.2, 0.3, 0.4],\n",
        "    [0.3, 0.4, 0.5],\n",
        "    [0.5, 0.6, 0.7],\n",
        "    [0.1, 0.3, 0.5],\n",
        "    [0.2, 0.4, 0.6],\n",
        "    [0.3, 0.5, 0.7],\n",
        "    [0.4, 0.6, 0.8],\n",
        "    [0.5, 0.7, 0.1]\n",
        "]\n",
        "y_train = [0.5349, 0.5498, 0.5646, 0.5939, 0.5548, 0.5695, 0.5842, 0.5987, 0.5548]\n",
        "\n",
        "X_test = [\n",
        "    [0.6, 0.7, 0.8],\n",
        "    [0.7, 0.8, 0.9]\n",
        "]\n",
        "y_test = [0.6083, 0.6225]\n",
        "\n",
        "w = [0.1, 0.2, 0.3]\n",
        "b = 0.1\n",
        "\n",
        "learning_rate = 0.01\n",
        "num_epochs = 1000\n",
        "\n",
        "def sigmoid(x):\n",
        "    return 1 / (1 + (2.71828 ** -x))\n",
        "\n",
        "def dot_product(vec1, vec2):\n",
        "    return sum(v1 * v2 for v1, v2 in zip(vec1, vec2))\n",
        "\n",
        "for epoch in range(num_epochs):\n",
        "    y_pred = [sigmoid(dot_product(X_train[i], w) + b) for i in range(len(X_train))]\n",
        "    error = [y_pred[i] - y_train[i] for i in range(len(y_train))]\n",
        "\n",
        "    dw = [\n",
        "        (2 / len(X_train)) * sum(error[i] * X_train[i][j] for i in range(len(X_train)))\n",
        "        for j in range(len(w))\n",
        "    ]\n",
        "    db = (2 / len(X_train)) * sum(error)\n",
        "\n",
        "    w = [w[j] - learning_rate * dw[j] for j in range(len(w))]\n",
        "    b -= learning_rate * db\n",
        "\n",
        "    mse = sum(e ** 2 for e in error) / len(error)\n",
        "\n",
        "    if epoch % 100 == 0:\n",
        "        print(f\"Epoch {epoch}, MSE: {mse:.6f}\")\n",
        "\n",
        "def mse_calc(X, y):\n",
        "    y_pred = [sigmoid(dot_product(X[i], w) + b) for i in range(len(X))]\n",
        "    return sum((y_pred[i] - y[i]) ** 2 for i in range(len(y))) / len(y)\n",
        "\n",
        "mse_train = mse_calc(X_train, y_train)\n",
        "mse_test = mse_calc(X_test, y_test)\n",
        "\n",
        "print(f\"Erro quadrático médio no treinamento: {mse_train:.6f}\")\n",
        "print(f\"Erro quadrático médio no teste: {mse_test:.6f}\")\n",
        "\n",
        "x_input = [\n",
        "    float(input(\"Digite x1: \")),\n",
        "    float(input(\"Digite x2: \")),\n",
        "    float(input(\"Digite x3: \"))\n",
        "]\n",
        "y_output = sigmoid(dot_product(x_input, w) + b)\n",
        "print(f\"Previsão do modelo: {y_output:.6f}\")"
      ],
      "metadata": {
        "colab": {
          "base_uri": "https://localhost:8080/"
        },
        "id": "_1pK1-7QMAhG",
        "outputId": "c988ee26-640d-4af9-e6c6-0204c0dbdb97"
      },
      "execution_count": 6,
      "outputs": [
        {
          "output_type": "stream",
          "name": "stdout",
          "text": [
            "Epoch 0, MSE: 0.000592\n",
            "Epoch 100, MSE: 0.000136\n",
            "Epoch 200, MSE: 0.000035\n",
            "Epoch 300, MSE: 0.000013\n",
            "Epoch 400, MSE: 0.000008\n",
            "Epoch 500, MSE: 0.000006\n",
            "Epoch 600, MSE: 0.000006\n",
            "Epoch 700, MSE: 0.000006\n",
            "Epoch 800, MSE: 0.000005\n",
            "Epoch 900, MSE: 0.000005\n",
            "Erro quadrático médio no treinamento: 0.000005\n",
            "Erro quadrático médio no teste: 0.000028\n",
            "Digite x1: 0.6\n",
            "Digite x2: 0.7\n",
            "Digite x3: 0.8\n",
            "Previsão do modelo: 0.603819\n"
          ]
        }
      ]
    }
  ]
}