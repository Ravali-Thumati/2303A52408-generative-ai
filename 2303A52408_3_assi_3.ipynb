{
  "nbformat": 4,
  "nbformat_minor": 0,
  "metadata": {
    "colab": {
      "provenance": [],
      "authorship_tag": "ABX9TyMtIsQiO2HCVwaoKMjMwipS",
      "include_colab_link": true
    },
    "kernelspec": {
      "name": "python3",
      "display_name": "Python 3"
    },
    "language_info": {
      "name": "python"
    }
  },
  "cells": [
    {
      "cell_type": "markdown",
      "metadata": {
        "id": "view-in-github",
        "colab_type": "text"
      },
      "source": [
        "<a href=\"https://colab.research.google.com/github/Ravali-Thumati/2303A52408-generative-ai/blob/main/2303A52408_3_assi_3.ipynb\" target=\"_parent\"><img src=\"https://colab.research.google.com/assets/colab-badge.svg\" alt=\"Open In Colab\"/></a>"
      ]
    },
    {
      "cell_type": "code",
      "execution_count": 1,
      "metadata": {
        "colab": {
          "base_uri": "https://localhost:8080/"
        },
        "id": "I_Zq7oI6KrxK",
        "outputId": "7c93b052-8082-41e0-a538-ce9d4595a2b2"
      },
      "outputs": [
        {
          "output_type": "stream",
          "name": "stdout",
          "text": [
            "Minimum value of x: 0.28\n"
          ]
        }
      ],
      "source": [
        "# Function derivative: f'(x) = 20x^3 + 6x\n",
        "def derivative(x):\n",
        "    return 20 * x**3 + 6 * x\n",
        "\n",
        "# Gradient Descent Algorithm\n",
        "def gradient_descent(learning_rate=0.01, max_iters=1, tolerance=1e-6):\n",
        "    x = 2.0 # Initial guess\n",
        "    for _ in range(max_iters):\n",
        "        grad = derivative(x)\n",
        "        new_x = x - learning_rate * grad\n",
        "        if abs(new_x - x) < tolerance:\n",
        "            break\n",
        "        x = new_x\n",
        "    return x\n",
        "\n",
        "# Run gradient descent\n",
        "minimum_x = gradient_descent()\n",
        "print(\"Minimum value of x:\", minimum_x)"
      ]
    },
    {
      "cell_type": "code",
      "source": [
        "# Function partial derivatives:\n",
        "def derivative_x(x):\n",
        "    return 6 * x  # Partial derivative with respect to x\n",
        "\n",
        "def derivative_y(y):\n",
        "    return -5 * (2.71828 ** -y)  # Approximate e^-y\n",
        "\n",
        "# Gradient Descent Algorithm\n",
        "def gradient_descent(learning_rate=0.01, max_iters=1, tolerance=1e-6):\n",
        "    x, y = 1.0, 1.0  # Initial guesses\n",
        "    for _ in range(max_iters):\n",
        "        grad_x = derivative_x(x)\n",
        "        grad_y = derivative_y(y)\n",
        "        new_x = x - learning_rate * grad_x\n",
        "        new_y = y - learning_rate * grad_y\n",
        "        if abs(new_x - x) < tolerance and abs(new_y - y) < tolerance:\n",
        "            break\n",
        "        x, y = new_x, new_y\n",
        "    return x, y\n",
        "\n",
        "# Run gradient descent\n",
        "minimum_x, minimum_y = gradient_descent()\n",
        "print(\"Minimum value of x:\", minimum_x)\n",
        "print(\"Minimum value of y:\", minimum_y)\n"
      ],
      "metadata": {
        "colab": {
          "base_uri": "https://localhost:8080/"
        },
        "id": "gbWbhXWWLLhm",
        "outputId": "979e8100-fdad-4626-9562-f45e36a6893e"
      },
      "execution_count": 2,
      "outputs": [
        {
          "output_type": "stream",
          "name": "stdout",
          "text": [
            "Minimum value of x: 0.94\n",
            "Minimum value of y: 1.0183939844313317\n"
          ]
        }
      ]
    },
    {
      "cell_type": "code",
      "source": [
        "# Function derivative of the sigmoid function:\n",
        "def derivative_x(x):\n",
        "    sigmoid = 1 / (1 + 2.71828 ** -x)  # Approximate sigmoid function\n",
        "    return sigmoid * (1 - sigmoid)  # Derivative of sigmoid\n",
        "\n",
        "# Gradient Descent Algorithm\n",
        "def gradient_descent(learning_rate=0.01, max_iters=1, tolerance=1e-6):\n",
        "    x = 1.0  # Initial guess\n",
        "    for _ in range(max_iters):\n",
        "        grad_x = derivative_x(x)\n",
        "        new_x = x - learning_rate * grad_x\n",
        "        if abs(new_x - x) < tolerance:\n",
        "            break\n",
        "        x = new_x\n",
        "    return x\n",
        "\n",
        "# Run gradient descent\n",
        "minimum_x = gradient_descent()\n",
        "print(\"Minimum value of x:\", minimum_x)\n"
      ],
      "metadata": {
        "colab": {
          "base_uri": "https://localhost:8080/"
        },
        "id": "I4A2k7ZcLNU9",
        "outputId": "214ffc66-392d-4edb-b5d8-021c23902389"
      },
      "execution_count": 3,
      "outputs": [
        {
          "output_type": "stream",
          "name": "stdout",
          "text": [
            "Minimum value of x: 0.9980338800564281\n"
          ]
        }
      ]
    },
    {
      "cell_type": "code",
      "source": [
        "# Function to compute the square error\n",
        "def square_error(M, C, X, Y):\n",
        "    error = 0\n",
        "    for i in range(len(X)):\n",
        "        predicted_output = M * X[i] + C\n",
        "        error += (Y[i] - predicted_output) ** 2\n",
        "    return error / len(X)\n",
        "\n",
        "# Partial derivatives of the square error function\n",
        "def derivative_M(M, C, X, Y):\n",
        "    grad = 0\n",
        "    for i in range(len(X)):\n",
        "        grad += -2 * X[i] * (Y[i] - (M * X[i] + C))\n",
        "    return grad / len(X)\n",
        "\n",
        "def derivative_C(M, C, X, Y):\n",
        "    grad = 0\n",
        "    for i in range(len(X)):\n",
        "        grad += -2 * (Y[i] - (M * X[i] + C))\n",
        "    return grad / len(X)\n",
        "\n",
        "# Gradient Descent Algorithm\n",
        "def gradient_descent(X, Y, learning_rate=0.01, max_iters=1, tolerance=1e-6):\n",
        "    M, C = 0.0, 0.0  # Initial guesses\n",
        "    for _ in range(max_iters):\n",
        "        grad_M = derivative_M(M, C, X, Y)\n",
        "        grad_C = derivative_C(M, C, X, Y)\n",
        "        new_M = M - learning_rate * grad_M\n",
        "        new_C = C - learning_rate * grad_C\n",
        "        if abs(new_M - M) < tolerance and abs(new_C - C) < tolerance:\n",
        "            break\n",
        "        M, C = new_M, new_C\n",
        "    return M, C\n",
        "\n",
        "# Example dataset\n",
        "X = [1, 2, 3, 4, 5]\n",
        "Y = [2, 4, 6, 8, 10]  # Linear relationship Y = 2X\n",
        "\n",
        "# Run gradient descent\n",
        "optimal_M, optimal_C = gradient_descent(X, Y)\n",
        "print(\"Optimal M:\", optimal_M)\n",
        "print(\"Optimal C:\", optimal_C)\n"
      ],
      "metadata": {
        "id": "ZqB0gfl5LWRt",
        "outputId": "0cefa9af-d85b-4428-a087-d7f89a8e2858",
        "colab": {
          "base_uri": "https://localhost:8080/"
        }
      },
      "execution_count": 4,
      "outputs": [
        {
          "output_type": "stream",
          "name": "stdout",
          "text": [
            "Optimal M: 0.44\n",
            "Optimal C: 0.12\n"
          ]
        }
      ]
    }
  ]
}